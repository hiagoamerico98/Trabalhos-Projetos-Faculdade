{
  "cells": [
    {
      "cell_type": "markdown",
      "metadata": {
        "id": "qTWJfk46FNN9"
      },
      "source": [
        "# **Seminário de Teoria Espectral das Matrizes**"
      ]
    },
    {
      "cell_type": "markdown",
      "metadata": {
        "id": "bKlP18TesOL0"
      },
      "source": [
        "# Método de Potência e Computação de Autovalores e Autovetores"
      ]
    },
    {
      "cell_type": "markdown",
      "metadata": {
        "id": "6S8XOGtgqHm_"
      },
      "source": [
        "### Introdução\n",
        "No presente trabalho, iremos apresentar sobre o Método de Potência e Computação de Pares Próprios. O Método de Potência, também conhecido como iteração de Von Mises, tem o objetivo de aproximar autovalores extremos da matriz, ou seja, autovalores de menor e maior módulo com seus autovetores associados. Sabemos calcular o autovalor de uma matriz através do polinômio característico, mas encontrar o determinante computacionalmente da seguinte forma pode ser ineficiente e dispendioso.\n",
        "\n",
        "Atráves dos métodos de iteração e definições  da Aĺgebra Linear com apenas um algoritmo simples, obtemos resultados muito importante para aplicações em diversas áreas da ciência como geossísmica, máquinas e vibrações estruturais, mecânica quântica etc.\n",
        "\n",
        "Dada uma matriz A, o algoritmo irá produzir um autovalor $\\mathbf{\\lambda}$ e um vetor não-nulo, tal que $\\mathbf{Av=\\lambda v}$. A operação não computa decomposição matricial e podemos usar quando A for uma grande matriz esparsa. Com isso, ele irá convergir a apenas um autovalor $\\mathbf{\\lambda}$.\n",
        "\n",
        "---\n",
        "\n"
      ]
    },
    {
      "cell_type": "markdown",
      "metadata": {
        "id": "fYT7yuK0yiUc"
      },
      "source": [
        "### Construção do algoritmo\n",
        "\n",
        "Seja $\\mathbf{A}$ uma matriz $n \\times n$ com $n$ autovetores $\\mathbf{V}$ linearmente indepentes, com seus autovalores $\\lambda_1, \\lambda_2, ..., \\lambda_n$, e  que $\\lambda_1$ seja o maior autovalor em módulo.\n",
        "\n",
        "Seja $\\mathbf{x}$ um vetor qualquer em $\\mathbb{R}^n$. Como o conjunto de autovetores $\\mathbf{V} = \\{\\mathbf{v}^{(1)},\\mathbf{v}^{(2)},..., \\mathbf{v}^{(n)} \\}$ é L.I, podemos escrever:\n",
        "\n",
        "$$\n",
        "\\mathbf{x}= \\sum^n_{j=1}\\beta_j\\mathbf{v}^{(n)}\n",
        "$$\n",
        "\n",
        "Multiplicando por $\\mathbf{A^k}$ em ambos os lados, temos que:\n",
        "\n",
        "$$\n",
        "\\mathbf{A^k}\\mathbf{x}= \\sum^n_{j=1}\\beta_j\\lambda^k_j\\mathbf{v}^{(j)}\n",
        "$$\n",
        "\n",
        "Fatorando o lado direito da equação por $\\lambda^k_1$, obtemos:\n",
        "\n",
        "$$\n",
        "\\mathbf{A^k}\\mathbf{x}= \\lambda^k_1\\sum^n_{j=1}\\beta_j\\left(\\frac{\\lambda_j}{\\lambda_1}\\right)^k\\mathbf{v}^{(j)}\n",
        "$$\n",
        "\n",
        "Como $|\\lambda_1|>|\\lambda_j|$, para qualquer $j \\neq 1$, então $\\lim_{k \\to \\infty}\\left(\\frac{\\lambda_j}{\\lambda_1}\\right)^k = 0$ e:\n",
        "\n",
        "$$\n",
        "\\lim_{k \\to \\infty}\\mathbf{A^k}\\mathbf{x}= \\lim_{k \\to \\infty} \\lambda^k_1\\beta_1\\mathbf{v}^{(1)}\n",
        "$$"
      ]
    },
    {
      "cell_type": "markdown",
      "source": [
        "O Método da Potência Inversa é uma alteração do método original, convergindo mais rápido. É utilizado para determinar o autovalor de $A$ qeu esteja mais próximo de um número $q$ (Quociente de Rayleigh) especificado. Este método converge da seguinte forma $(A-qI)^-1$. Sendo $q$ da seguinte forma:\n",
        "\n",
        "$$ q = \\frac{x^tAx}{x^tx} $$\n",
        "\n",
        "Se $q$ estiver mais próximo de um autovalor, a convegência será bastante rápida.\n",
        "\n"
      ],
      "metadata": {
        "id": "CYSk0p7sdrw9"
      }
    },
    {
      "cell_type": "code",
      "execution_count": null,
      "metadata": {
        "id": "zDipPsOssgpI",
        "colab": {
          "base_uri": "https://localhost:8080/"
        },
        "outputId": "8eb8a941-814b-4239-eb99-73a38da41ded"
      },
      "outputs": [
        {
          "output_type": "stream",
          "name": "stdout",
          "text": [
            "Iteração: 6\n",
            "Maior autovalor: 5.998535857385613\n"
          ]
        },
        {
          "output_type": "execute_result",
          "data": {
            "text/plain": [
              "(array([[5.99853586]]), array([[ 1.        ],\n",
              "        [-0.97691253],\n",
              "        [ 0.97693363]]))"
            ]
          },
          "metadata": {},
          "execution_count": 49
        }
      ],
      "source": [
        "import numpy as np\n",
        "\n",
        "# Método da Potência Inversa\n",
        "# Utilizado para determinar o autovalor de A que esteja mais próximo de um autovetor especificado\n",
        "# Quociente de Rayleigh, calcular o raio espectral da matriz\n",
        "\n",
        "def met_potencia_inversa(A,x,n,e):    \n",
        "    xn = x\n",
        "    q_prev = 0\n",
        "\n",
        "    # Para cada iteração, o vetor xn é multiplicado pela matriz A e normalizado \n",
        "    for i in range(n):\n",
        "        # Se x for um autovetor de A correspondente ao autovalor lambda, então Ax = lambda*x        \n",
        "        autovalor = np.dot(xn.transpose(),np.dot(A,xn))/np.dot(xn.transpose(),xn) # x^t * A * x / x^t * x\n",
        "      \n",
        "        xn = np.dot(A,xn)\n",
        "      \n",
        "        xn = xn/max(xn)\n",
        "        \n",
        "        if(np.abs(autovalor-q_prev) < e and i != 0):\n",
        "            print(('Iteração: ') + str(i))\n",
        "            print(('Maior autovalor: ')+str(autovalor.max()))\n",
        "            return (autovalor,xn)\n",
        "        q_prev = autovalor\n",
        "\n",
        "\n",
        "#M = np.array([[4,2,3],[2,7,6],[3,6,4]])\n",
        "#M = np.array([[-4,14,0],[-5,13,0],[-1,0,2]])\n",
        "M = np.array([[4,-1,1], [-1,3,-2],[1,-2,3]])\n",
        "x_init = np.array([[1],[1],[1]])\n",
        "met_potencia_inversa(M,x_init,15,0.01)"
      ]
    },
    {
      "cell_type": "markdown",
      "source": [
        "O Método da Potência Original, faz a convergência a partir de $Ax = y$, pegando o maior elemento de  $y$ dividindo todo o vetor por ele ."
      ],
      "metadata": {
        "id": "E_u32QlpvRgz"
      }
    },
    {
      "cell_type": "code",
      "source": [
        "# Método da Potência 'Normal'\n",
        "def met_potencia_normal(A,x,n,e):\n",
        "  k = 1\n",
        "\n",
        "  x2 = x / max(x)\n",
        "  antigo = 0\n",
        "  for k in range(n):\n",
        "    y = np.dot(A,x)\n",
        "    u = max(y)\n",
        "    \n",
        "    if u == 0:\n",
        "      print('Autovetor\\n', x)\n",
        "      print('A tem autovalor 0, escolha um novo vetor x e reinicie')\n",
        "      break\n",
        "    \n",
        "    x = y/max(y)\n",
        "    \n",
        "    if(np.abs(u-antigo) < e and k != 0):\n",
        "      print(('Iteração: ') + str(k))\n",
        "      return (u,x)\n",
        "      break\n",
        "    \n",
        "    antigo = u\n",
        "#M2 = np.array([[-4,14,0],[-5,13,0],[-1,0,2]])\n",
        "M2 = np.array([[4,-1,1], [-1,3,-2],[1,-2,3]])\n",
        "met_potencia_normal(M,x_init,15,0.001)\n"
      ],
      "metadata": {
        "colab": {
          "base_uri": "https://localhost:8080/"
        },
        "id": "Cm69IgAvy6Mj",
        "outputId": "9b52515a-4ad2-40fe-fb25-e477321312d2"
      },
      "execution_count": null,
      "outputs": [
        {
          "output_type": "stream",
          "name": "stdout",
          "text": [
            "Iteração: 13\n"
          ]
        },
        {
          "output_type": "execute_result",
          "data": {
            "text/plain": [
              "(array([5.99926776]), array([[ 1.        ],\n",
              "        [-0.99981692],\n",
              "        [ 0.99981692]]))"
            ]
          },
          "metadata": {},
          "execution_count": 50
        }
      ]
    },
    {
      "cell_type": "markdown",
      "source": [
        "As técnicas de deflação envolvem a formação de uma nova matriz $B$ cujo autovalores sejam os mesmos de $A$, exceto o autovalor dominante em A que é substituído por 0. Calculamos $B$ como:\n",
        "\n",
        "$$ B = A - \\lambda v^1 x^t $$\n",
        "\n"
      ],
      "metadata": {
        "id": "Xs7NYDkUwlvS"
      }
    },
    {
      "cell_type": "code",
      "source": [
        "# Deflação de Wielandt\n",
        "\n",
        "M2 = np.array([[4,-1,1], [-1,3,-2],[1,-2,3]])\n",
        "x_init = np.array([[1],[1],[1]])\n",
        "autovalor,autovetor = met_potencia_normal(M2,x_init,15,0.01)\n",
        "\n",
        "for i in range(3):\n",
        "  x = (1 / (autovalor*autovetor[i]))* M2[0,:]\n",
        "  vx = x*autovetor\n",
        "  B = M2 - (autovalor*vx)\n",
        "\n",
        "B_2 = np.delete(B,(0),axis=0)\n",
        "B_3 = np.delete(B_2,0,axis = 1)\n",
        "\n",
        "x_init2 = np.array([[1],[0]])\n",
        "autovalorB, autovetorB = met_potencia_normal(B_3,x_init2,15,0.001)\n",
        "\n",
        "autovetorB = np.concatenate((np.zeros(shape=(1,1)),autovetorB))\n",
        "v_2 =  (autovalorB - autovalor)*autovetorB + autovalor*(np.dot(x, autovetorB))*autovetor\n",
        "print(autovalorB)\n",
        "print(v_2)\n",
        "\n"
      ],
      "metadata": {
        "colab": {
          "base_uri": "https://localhost:8080/"
        },
        "id": "7qgSnWaOuygQ",
        "outputId": "83866e02-8a46-4fc7-ed07-0988358ed1e2"
      },
      "execution_count": null,
      "outputs": [
        {
          "output_type": "stream",
          "name": "stdout",
          "text": [
            "Iteração: 10\n",
            "Iteração: 8\n",
            "[2.99969523]\n",
            "[[-2.00282933]\n",
            " [-0.99455847]\n",
            " [ 0.99425413]]\n"
          ]
        }
      ]
    },
    {
      "cell_type": "code",
      "source": [],
      "metadata": {
        "id": "HB-PHaMxQzV4",
        "colab": {
          "base_uri": "https://localhost:8080/"
        },
        "outputId": "c5a38580-af49-4dee-a354-ef26a3676615"
      },
      "execution_count": null,
      "outputs": [
        {
          "output_type": "stream",
          "name": "stdout",
          "text": [
            "[[-2.00282933]\n",
            " [-0.99455847]\n",
            " [ 0.99425413]]\n"
          ]
        }
      ]
    },
    {
      "cell_type": "code",
      "source": [],
      "metadata": {
        "id": "hyChaqKBopUc"
      },
      "execution_count": null,
      "outputs": []
    }
  ],
  "metadata": {
    "colab": {
      "provenance": []
    },
    "kernelspec": {
      "display_name": "Python 3",
      "language": "python",
      "name": "python3"
    },
    "language_info": {
      "codemirror_mode": {
        "name": "ipython",
        "version": 3
      },
      "file_extension": ".py",
      "mimetype": "text/x-python",
      "name": "python",
      "nbconvert_exporter": "python",
      "pygments_lexer": "ipython3",
      "version": "3.8.5"
    }
  },
  "nbformat": 4,
  "nbformat_minor": 0
}